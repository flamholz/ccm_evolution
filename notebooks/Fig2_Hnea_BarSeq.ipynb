{
 "cells": [
  {
   "cell_type": "code",
   "execution_count": 1,
   "metadata": {},
   "outputs": [
    {
     "name": "stdout",
     "output_type": "stream",
     "text": [
      "/Users/flamholz/Documents/workspace/ccm_evolution\n"
     ]
    }
   ],
   "source": [
    "cd .."
   ]
  },
  {
   "cell_type": "code",
   "execution_count": 2,
   "metadata": {},
   "outputs": [],
   "source": [
    "mkdir -p figures/fig2"
   ]
  },
  {
   "cell_type": "code",
   "execution_count": 3,
   "metadata": {},
   "outputs": [],
   "source": [
    "import numpy as np\n",
    "import pandas as pd\n",
    "import re\n",
    "import seaborn as sns\n",
    "\n",
    "from matplotlib import pyplot as plt"
   ]
  },
  {
   "cell_type": "code",
   "execution_count": 4,
   "metadata": {},
   "outputs": [],
   "source": [
    "# Genes we want to plot - commenting out those that are not as interesting.\n",
    "# TODO: make a configurable \"to_plot\" key\n",
    "genes_of_interest = {\n",
    "#    'HNEAP_RS07320': dict(name='Crp/Fnr', kind='regulation'),\n",
    "    'HNEAP_RS01030': dict(name='DAB2B', kind='transport'),\n",
    "    'HNEAP_RS01035': dict(name='DAB2A', kind='transport'), \n",
    "    'HNEAP_RS04585': dict(name='DAB1B', kind='transport'),\n",
    "    'HNEAP_RS04595': dict(name='DAB1A', kind='transport'),\n",
    "#    'HNEAP_RS01040': dict(name='LysR DAB2', kind='regulation'),\n",
    "    'HNEAP_RS04645': dict(name='csosCA', kind='CA'),\n",
    "    'HNEAP_RS04565': dict(name='csos1D', kind='carboxysome'),\n",
    "    'HNEAP_RS04655': dict(name='cbbS', kind='rubisco'),\n",
    "#    'HNEAP_RS04615': dict(name='acRAF', kind='chaperone'),\n",
    "    'HNEAP_RS04625': dict(name='csos1A', kind='carboxysome'),\n",
    "    'HNEAP_RS04660': dict(name='cbbL', kind='rubisco'),\n",
    "#    'HNEAP_RS05490': dict(name='LysR', kind='regulation'),\n",
    "    'HNEAP_RS04640': dict(name='csos4A', kind='carboxysome'),\n",
    "    'HNEAP_RS04635': dict(name='csos4B', kind='carboxysome'),\n",
    "    'HNEAP_RS04650': dict(name='csos2', kind='carboxysome'),\n",
    "    'HNEAP_RS04630': dict(name='csos1C', kind='carboxysome'), \n",
    "}\n",
    "\n",
    "barseq_df = pd.read_csv('data/Hnea/barseq/fit_logratios_all.csv')"
   ]
  },
  {
   "cell_type": "code",
   "execution_count": 5,
   "metadata": {},
   "outputs": [],
   "source": [
    "mask = barseq_df.locus_id.isin(genes_of_interest.keys())\n",
    "subset_df = barseq_df[mask].copy()"
   ]
  },
  {
   "cell_type": "code",
   "execution_count": 6,
   "metadata": {},
   "outputs": [
    {
     "data": {
      "text/html": [
       "<div>\n",
       "<style scoped>\n",
       "    .dataframe tbody tr th:only-of-type {\n",
       "        vertical-align: middle;\n",
       "    }\n",
       "\n",
       "    .dataframe tbody tr th {\n",
       "        vertical-align: top;\n",
       "    }\n",
       "\n",
       "    .dataframe thead th {\n",
       "        text-align: right;\n",
       "    }\n",
       "</style>\n",
       "<table border=\"1\" class=\"dataframe\">\n",
       "  <thead>\n",
       "    <tr style=\"text-align: right;\">\n",
       "      <th></th>\n",
       "      <th>locus_id</th>\n",
       "      <th>variable</th>\n",
       "      <th>value</th>\n",
       "      <th>gene_tag</th>\n",
       "      <th>cond</th>\n",
       "    </tr>\n",
       "  </thead>\n",
       "  <tbody>\n",
       "    <tr>\n",
       "      <th>0</th>\n",
       "      <td>HNEAP_RS01030</td>\n",
       "      <td>5% CO2</td>\n",
       "      <td>-0.009401</td>\n",
       "      <td>transport</td>\n",
       "      <td>5% CO2</td>\n",
       "    </tr>\n",
       "    <tr>\n",
       "      <th>1</th>\n",
       "      <td>HNEAP_RS01035</td>\n",
       "      <td>5% CO2</td>\n",
       "      <td>0.052684</td>\n",
       "      <td>transport</td>\n",
       "      <td>5% CO2</td>\n",
       "    </tr>\n",
       "    <tr>\n",
       "      <th>2</th>\n",
       "      <td>HNEAP_RS04565</td>\n",
       "      <td>5% CO2</td>\n",
       "      <td>0.015781</td>\n",
       "      <td>carboxysome</td>\n",
       "      <td>5% CO2</td>\n",
       "    </tr>\n",
       "    <tr>\n",
       "      <th>3</th>\n",
       "      <td>HNEAP_RS04585</td>\n",
       "      <td>5% CO2</td>\n",
       "      <td>-0.432006</td>\n",
       "      <td>transport</td>\n",
       "      <td>5% CO2</td>\n",
       "    </tr>\n",
       "    <tr>\n",
       "      <th>4</th>\n",
       "      <td>HNEAP_RS04595</td>\n",
       "      <td>5% CO2</td>\n",
       "      <td>-0.300871</td>\n",
       "      <td>transport</td>\n",
       "      <td>5% CO2</td>\n",
       "    </tr>\n",
       "  </tbody>\n",
       "</table>\n",
       "</div>"
      ],
      "text/plain": [
       "        locus_id variable     value     gene_tag    cond\n",
       "0  HNEAP_RS01030   5% CO2 -0.009401    transport  5% CO2\n",
       "1  HNEAP_RS01035   5% CO2  0.052684    transport  5% CO2\n",
       "2  HNEAP_RS04565   5% CO2  0.015781  carboxysome  5% CO2\n",
       "3  HNEAP_RS04585   5% CO2 -0.432006    transport  5% CO2\n",
       "4  HNEAP_RS04595   5% CO2 -0.300871    transport  5% CO2"
      ]
     },
     "execution_count": 6,
     "metadata": {},
     "output_type": "execute_result"
    }
   ],
   "source": [
    "numeric_cols = (subset_df.dtypes == np.float64)\n",
    "long_subset_df = subset_df.melt('locus_id', value_vars=subset_df.columns[numeric_cols])\n",
    "\n",
    "gene_tags = [genes_of_interest.get(row.locus_id)['kind'] for _, row in long_subset_df.iterrows()]\n",
    "conds = [re.sub('CO2.\\d+', 'CO2', row.variable) for _, row in long_subset_df.iterrows()]\n",
    "long_subset_df['gene_tag'] = gene_tags\n",
    "long_subset_df['cond'] = conds\n",
    "long_subset_df.head()"
   ]
  },
  {
   "cell_type": "code",
   "execution_count": 7,
   "metadata": {},
   "outputs": [
    {
     "data": {
      "image/png": "[encoded data removed]",
      "text/plain": [
       "<Figure size 504x180 with 2 Axes>"
      ]
     },
     "metadata": {
      "needs_background": "light"
     },
     "output_type": "display_data"
    }
   ],
   "source": [
    "plt.figure(figsize=(7,2.5))\n",
    "xorder = 'ambient CO2,0.5% CO2,1.5% CO2,5% CO2,10% CO2'.split(',')\n",
    "hue_order = 'transport,carboxysome,rubisco,CA'.split(',')\n",
    "pal = sns.color_palette('Blues')\n",
    "greys = sns.color_palette('Greys')\n",
    "\n",
    "sns.stripplot(data=long_subset_df, x='cond', y='value', hue='gene_tag', dodge=0.25,\n",
    "              order=xorder, hue_order=hue_order,\n",
    "              marker='d', edgecolor='k', linewidth=0.5, palette=pal[-4:])\n",
    "plt.legend().set_visible(False)\n",
    "\n",
    "xticks = 'ambient CO$_2$,0.5% CO$_2$,1.5% CO$_2$,5% CO$_2$,10% CO$_2$'.split(',')\n",
    "plt.xticks(np.arange(5), xticks, rotation=0, ha='center', fontsize=9)\n",
    "plt.ylabel('Fitness', fontsize=9)\n",
    "plt.xlabel('')\n",
    "\n",
    "xticks = np.arange(0, 0.8, 0.2) - 0.3125\n",
    "xticks = np.hstack([xticks, xticks+1, xticks+2, xticks+3, xticks+4])\n",
    "xtick_str = hue_order*5\n",
    "for xpos in xticks:\n",
    "    plt.axvline(xpos, ls='--', lw=0.5, zorder=-1, color=greys[-2])\n",
    "    \n",
    "ax = plt.gca()\n",
    "axT = ax.twiny()\n",
    "plt.sca(axT)\n",
    "\n",
    "plt.xticks(xticks, xtick_str, ha='right', rotation=-35, fontsize=8)\n",
    "plt.tick_params(pad=0)\n",
    "plt.xlim(ax.get_xlim())\n",
    "\n",
    "plt.tight_layout()\n",
    "plt.savefig('figures/fig2/fig2.png', dpi=600, facecolor='w')\n",
    "plt.show()"
   ]
  },
  {
   "cell_type": "code",
   "execution_count": null,
   "metadata": {},
   "outputs": [],
   "source": []
  }
 ],
 "metadata": {
  "kernelspec": {
   "display_name": "Python 3",
   "language": "python",
   "name": "python3"
  },
  "language_info": {
   "codemirror_mode": {
    "name": "ipython",
    "version": 3
   },
   "file_extension": ".py",
   "mimetype": "text/x-python",
   "name": "python",
   "nbconvert_exporter": "python",
   "pygments_lexer": "ipython3",
   "version": "3.8.2"
  }
 },
 "nbformat": 4,
 "nbformat_minor": 4
}
