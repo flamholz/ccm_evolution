{
 "cells": [
  {
   "cell_type": "markdown",
   "metadata": {},
   "source": [
    "## Modeling the effect of carbonic anhydrase expression\n",
    "We are using a linearized differential equation model of $CO_2$ and $HCO_3^{-}$ fluxes across the cell membrane and inside the cytosol. \n",
    "\n",
    "$\\frac{dC_{in}}{dt} = \\alpha (C_{out} - C_{in}) - \\gamma C_{in} - \\delta C_{in} + \\phi H_{in}$\n",
    "\n",
    "$\\frac{dH_{in}}{dt} = \\beta (H_{out} - H_{in}) + \\delta C_{in} - \\phi H_{in} - \\omega H_{in}$\n",
    "\n",
    "Here $C_{in}$ and $H_{in}$ are the intracellular $CO_2$ and $HCO_3^{-}$ concentrations respectively. $C_{out}$ and $H_{out}$ are the extracellular concentrations, which we assume to be in a pH-dependent equilibrium such that\n",
    "\n",
    "$\\frac{H_{out}}{C_{out}} = K_{EQ}(pH)$\n",
    "\n",
    "In this linearized system, $\\gamma C_{in}$ represents the rate of intracellular $CO_2$ fixation by rubisco and $\\delta C_{in} - \\phi H_{in}$ is the balance of the reversible $CO_2$ hydration reaction by carbonic anhydrase. $\\alpha$ and $\\beta$ are permeability coefficients for $CO_2$ and $HCO_3^{-}$, respectively, and $\\omega H_{in}$ is the rate of $HCO_3^{-}$ dependent carboxylation. Note that several $HCO_3^{-}$ dependent carboxylation are required for the production of key precursors of lipids, amino acids and proteins. Hereafter we refer to carboxylation of $HCO_3^{-}$ as \"H-carboxylation.\" \n",
    "\n",
    "## Assumptions\n",
    "As the diffusion coefficients associated with small molecules (e.g. $CO_2$ and $HCO_3^{-}$) in water are ≈1000 $\\mu m^2 /s$, such molecules diffuse very quickly across the micron length scales of bacterial cells with diffusion timescales $< 10^{-3}$. As a result, we assume spatial uniformity of $H_{in}$ and $C_{in}$ concentrations. We are also assuming a constant concentration of the rubisco co-substrate, ribulose 1,5-bisphosphate or RuBP, so that we can ignore this concentration when considering the reaction rate. \n",
    "\n",
    "Enzymatic rates are typically described as non-linear saturating functions of substrate concentrations. An irreversible Michaelis-Menten rate law has the form $V = k_{cat} [E] \\frac{[S]}{K_M + [S]}$ where $[E]$ and $[S]$ are the enzyme and substrate concentrations respectively. In order to linearize this equation, we assume for both rubisco and carbonic anhydrase that $[S] \\ll K_M$ so that $V \\approx \\frac{k_{cat}}{K_M} [E] [S]$. This assumption is reasonably justified as the $CO_2$ concentration in water in equilibrium with atmosphere is $\\approx 15 \\mu M$ at 25 $\\deg C$ while the typical bacterial rubisco has a $K_M \\approx 100 \\mu M$. Similarly, typical $K_M$ values for carbonic anhydrases are in the $1-5 mM$ range. This linearization is appropriate only when we consider $CO_2$ and $HCO_3^{-}$ levels that are within a few fold of equilibrium with ambient air. We can also solve a non-linear version of the system where rubisco flux saturates at high $CO_2$ levels, but those solutions are considerably more complex. \n",
    "\n",
    "As $CO_2$ is smaller than $HCO_3^{-}$ and uncharged, it is typical to assume that the membrane permeability $\\beta \\ll \\alpha$. We will not explicitly encode this assumption in the equations. Instead, we will plug in plausible empirically-derived values for $\\beta$ and $\\alpha$. \n",
    "\n",
    "## Steady-state solutions\n",
    "We can solve this system at steady-state, which gives steady-state values for $C_{in}$ and $H_{in}$ as a function of the other parameters. In particular, we can calculate the flux through rubisco as\n",
    "\n",
    "$\\gamma C_{in} = \\frac{\\gamma  C_{out} (\\alpha  (\\beta +\\omega +\\phi )+\\beta  K_{EQ}(pH) \\phi\n",
    "   )}{\\alpha  (\\beta +\\omega +\\phi )+\\beta  (\\gamma +\\delta )+\\gamma  \\omega +\\gamma \n",
    "   \\phi +\\delta  \\omega }$\n",
    "   \n",
    "Similarly, we can calculate the rate of H-dependent carboxylation as \n",
    "\n",
    "$\\omega H_{in} = \\frac{C_{out} \\omega  (\\alpha  \\delta +\\beta  K_{EQ}(pH) (\\alpha +\\gamma\n",
    "   +\\delta ))}{\\alpha  (\\beta +\\omega +\\phi )+\\beta  (\\gamma +\\delta )+\\gamma  \\omega\n",
    "   +\\gamma  \\phi +\\delta  \\omega }$\n",
    "   \n",
    "Since rubisco and H-carboxylation are together responsible for the production of biomass carbon, we'll further assume that the rate of biomass production and, hence, the exponential growth rate $\\lambda \\propto \\min(c \\omega H_{in}, \\gamma C_{in})$. Here $c \\gg 1$ is a constant of proportionality reflecting the lesser contribution of H-carboxylation to biomass production. We will assume for the sake of plotting that $c = 100$, meaning that H-carboxylation contributes 1% of biomass carbon on a flux basis.  A more precise range of values could be calculated via flux balance analysis of autotrophic metabolism. "
   ]
  },
  {
   "cell_type": "code",
   "execution_count": 1,
   "metadata": {},
   "outputs": [],
   "source": [
    "import numpy as np\n",
    "from matplotlib import pyplot as plt\n",
    "from matplotlib.colors import LogNorm\n",
    "import seaborn as sns"
   ]
  },
  {
   "cell_type": "code",
   "execution_count": 2,
   "metadata": {},
   "outputs": [
    {
     "name": "stdout",
     "output_type": "stream",
     "text": [
      "alpha = 12000 /s\n",
      "beta = 0.0151071 /s\n",
      "\n",
      "pH_out = 7.1\n",
      "KEQ_out(pH) = 10\n",
      "Cout = 15 uM\n",
      "Hout = 150 uM\n",
      "\n",
      "pH_in = 7.1\n",
      "KEQ_in(pH) = 10\n"
     ]
    }
   ],
   "source": [
    "# Lengths in micron units\n",
    "cell_SA = 6 # square microns, BNID 101792\n",
    "cell_V = 1.5 # cubic microns, BNID 114924\n",
    "C_perm = 0.3*1e4 # microns/s, Flamholz & Mangan 2016\n",
    "H_perm = 3e-3*1e4*np.power(10, 3.2-7.1) # microns/s, Flamholz & Mangan 2016\n",
    "\n",
    "alpha = C_perm * cell_SA / cell_V\n",
    "beta = H_perm * cell_SA / cell_V\n",
    "print('alpha = {:1g} /s'.format(alpha))\n",
    "print('beta = {:1g} /s'.format(beta))\n",
    "print()\n",
    "\n",
    "# Concentrations in micromolar units\n",
    "pH_out = 7.1\n",
    "pKa_eff = 6.1 # effective pKa between CO2 and bicarb\n",
    "Cout = 15\n",
    "Keq_pH = lambda p: np.power(10, p-pKa_eff)\n",
    "Keq_out = Keq_pH(pH_out)\n",
    "Hout = Keq_out*Cout\n",
    "\n",
    "print('pH_out = {:1g}'.format(pH_out))\n",
    "print('KEQ_out(pH) = {:1g}'.format(Keq_out))\n",
    "print('Cout = {:1g} uM'.format(Cout))\n",
    "print('Hout = {:1g} uM'.format(Hout))\n",
    "print()\n",
    "\n",
    "# We'll simplify the system by assuming pHout = pHin\n",
    "pH_in = pH_out\n",
    "Keq_in = Keq_pH(pH_in)\n",
    "print('pH_in = {:1g}'.format(pH_in))\n",
    "print('KEQ_in(pH) = {:1g}'.format(Keq_in))\n",
    "# This forces a relationship between the CA kinetics (Haldane relation)\n",
    "# Where KEQ = delta/phi = Hin/Cin at equilibrium\n",
    "\n",
    "# We'll further assume that the H carboxylation is ≈1% of rubisco rate\n",
    "# since rubisco is responsible for biomass carbon and H-carboxylation is\n",
    "# responsible for much less. 10% is probably an overestimate. Regardless\n",
    "# gamma = 10*omega"
   ]
  },
  {
   "cell_type": "code",
   "execution_count": 3,
   "metadata": {},
   "outputs": [],
   "source": [
    "# Calculate the rubisco flux as a function of other params\n",
    "def rub_flux_CA(a, b, g, d, phi, omega, c_out, k_eq):\n",
    "    numerator = g * c_out * (a*(b+omega+phi) + b*k_eq*phi)\n",
    "    denom = (a*(b+omega+phi) + b*(g+d) + \n",
    "             g*omega + g*phi + d*omega)\n",
    "    return numerator/denom\n",
    "\n",
    "# Calculate the flux through H-carboxylation as a function of the other params. \n",
    "def hcarb_flux_CA(a, b, g, d, phi, omega, c_out, k_eq):\n",
    "    numerator = omega * c_out * (a*d + b*k_eq*(a+g+d))\n",
    "    denom = (a*(b+omega+phi) + b*(g+d) + \n",
    "             g*omega + g*phi + d*omega)\n",
    "    return numerator/denom"
   ]
  },
  {
   "cell_type": "code",
   "execution_count": 4,
   "metadata": {},
   "outputs": [],
   "source": [
    "# Gamma is rubisco kcat/KM * enzyme concentration\n",
    "# kcat ≈ 1-10 /s\n",
    "# KM ≈ 100 uM\n",
    "# concentration 1-100 uM\n",
    "# so gamma is from 1e-2 to 1e3 /s\n",
    "gamma = np.logspace(-2,3,100) # /s\n",
    "\n",
    "# Delta is CA kcat/KM * enzyme concentration\n",
    "# kcat / KM ≈ 1e-2 - 1e1 /uM/s depending on CA\n",
    "# concentration 0.1-10 uM\n",
    "# so delta is from 1e-3 to 1e2 /s for a CA.\n",
    "# we will go much lower because we want to consider no CA at all. \n",
    "delta = np.logspace(-3,2,100) # /s\n",
    "\n",
    "# 2d grid of rubisco and CA rates\n",
    "G, D = np.meshgrid(gamma, delta)\n",
    "\n",
    "# Omega is 1% of rubisco gamma\n",
    "Omega = G / 100\n",
    "\n",
    "# As we said above, phi = delta/KEQ\n",
    "Phi = D / Keq_in\n",
    "\n",
    "rub_fluxes = rub_flux_CA(alpha, beta, G, D, Phi, Omega, Cout, Keq_pH(pH_in))\n",
    "hcarb_fluxes = hcarb_flux_CA(alpha, beta, G, D, Phi, Omega, Cout, Keq_pH(pH_in))"
   ]
  },
  {
   "cell_type": "code",
   "execution_count": 5,
   "metadata": {},
   "outputs": [
    {
     "data": {
      "image/png": "[encoded data removed]",
      "text/plain": [
       "<Figure size 576x288 with 6 Axes>"
      ]
     },
     "metadata": {
      "needs_background": "light"
     },
     "output_type": "display_data"
    }
   ],
   "source": [
    "fig, axs = plt.subplots(ncols=3, figsize=(8,4))\n",
    "\n",
    "plt.sca(axs[0])\n",
    "lnorm = LogNorm(rub_fluxes.min(), rub_fluxes.max())\n",
    "plt.imshow(rub_fluxes, norm=lnorm, origin='lower')\n",
    "plt.colorbar(fraction=0.046, pad=0.04)\n",
    "\n",
    "plt.ylabel('$\\delta = \\phi K_{eq}$ (s$^{-1}$)')\n",
    "plt.title('Rubisco Flux')\n",
    "\n",
    "plt.sca(axs[1])\n",
    "lnorm = LogNorm(hcarb_fluxes.min(), rub_fluxes.max())\n",
    "plt.imshow(hcarb_fluxes, norm=lnorm, cmap='OrRd', origin='lower')\n",
    "plt.colorbar(fraction=0.046, pad=0.04)\n",
    "\n",
    "plt.title('H-carb. Flux')\n",
    "\n",
    "plt.sca(axs[2])\n",
    "biomass_c_flux = np.minimum(rub_fluxes, 100*hcarb_fluxes)\n",
    "lnorm = LogNorm(biomass_c_flux.min(), biomass_c_flux.max())\n",
    "plt.imshow(biomass_c_flux, norm=lnorm, cmap='GnBu', origin='lower')\n",
    "plt.colorbar(fraction=0.046, pad=0.04, label='C Flux $\\mu$M/s')\n",
    "\n",
    "# Draw the boundary where rubisco becomes growth-limiting.\n",
    "mask = np.where(rub_fluxes < 100*hcarb_fluxes)\n",
    "boundary = np.zeros(biomass_c_flux.shape)\n",
    "boundary[mask] = 1\n",
    "plt.contour(boundary, cmap='gray')\n",
    "                    \n",
    "plt.title('Biomass Flux')\n",
    "\n",
    "# x & y ticks with values\n",
    "xs = np.arange(0, 101, 20)\n",
    "ys = np.arange(0, 101, 20)\n",
    "for ax in axs.flatten():\n",
    "    plt.sca(ax)\n",
    "    plt.xticks(xs, [r'$10^{%d}$' % i for i in range(-2,4)], fontsize=8)\n",
    "    plt.yticks(ys, [r'$10^{%d}$' % i for i in range(-3,3)], fontsize=8)\n",
    "    plt.xlabel('$\\gamma = 100 \\omega$ (s$^{-1}$)')\n",
    "\n",
    "plt.tight_layout()\n",
    "plt.show()"
   ]
  },
  {
   "cell_type": "code",
   "execution_count": 6,
   "metadata": {},
   "outputs": [
    {
     "data": {
      "image/png": "[encoded data removed]",
      "text/plain": [
       "<Figure size 360x288 with 1 Axes>"
      ]
     },
     "metadata": {
      "needs_background": "light"
     },
     "output_type": "display_data"
    }
   ],
   "source": [
    "# 2D projection of same figure\n",
    "plt.figure(figsize=(5,4))\n",
    "pal = sns.color_palette('Paired')\n",
    "\n",
    "# omega is 1% of rubisco gamma\n",
    "little_omega = gamma / 100\n",
    "# phi = delta/KEQ\n",
    "little_phi = delta / Keq_in\n",
    "\n",
    "for idx, delta_val in enumerate([1e-3, 1]):\n",
    "    rub_flux = rub_flux_CA(alpha, beta, gamma, delta_val, little_phi, little_omega, Cout, Keq_pH(pH_in))\n",
    "    hcarb_flux = hcarb_flux_CA(alpha, beta, gamma, delta_val, little_phi, little_omega, Cout, Keq_pH(pH_in))\n",
    "    biomass_c_flux = np.minimum(rub_flux, 100*hcarb_flux)\n",
    "\n",
    "    plt.loglog(gamma, biomass_c_flux, color=pal[idx], label='CA $\\delta$ = {0:.2g}'.format(delta_val))\n",
    "\n",
    "plt.legend()\n",
    "plt.xlabel('Rubisco Rate (s$^{-1}$)')\n",
    "plt.ylabel('Biomass C Flux ($\\mu$M/s)')\n",
    "plt.show()"
   ]
  },
  {
   "cell_type": "markdown",
   "metadata": {},
   "source": [
    "## Modeling the effect of Ci transporter expression\n",
    "A similar model can be used to address the effect of expressing energy-coupled inorganic carbon transporters (e.g. DAB-type complexes). In this model we omit the expression associated with the cell-permeability of $HCO_3^-$ and replace it with a first-order relation $\\chi H_out$ reflecting the rate of inorganic carbon uptake \n",
    "\n",
    "$\\frac{dC_{in}}{dt} = \\alpha (C_{out} - C_{in}) - \\gamma C_{in} - \\delta C_{in} + \\phi H_{in}$\n",
    "\n",
    "$\\frac{dH_{in}}{dt} = \\chi H_{out} + \\delta C_{in} - \\phi H_{in} - \\omega H_{in}$\n",
    "\n",
    "This system of equations can be solved in steady state to give rubisco and H-carboxylation rates as above. \n",
    "\n",
    "$\\gamma C_{in} = \\frac{\\gamma  C_{out} (\\alpha  (\\omega +\\phi ) + K_{EQ} \\chi  \\phi\n",
    "   )}{\\alpha  (\\omega +\\phi )+\\gamma  (\\omega +\\phi )+\\delta  \\omega }$\n",
    "   \n",
    "$\\omega H_{in} = \\frac{C_{out} \\omega  (\\alpha  (\\delta +K_{EQ} \\chi ) + K_{EQ} \\chi \n",
    "   (\\gamma +\\delta ))}{\\alpha  (\\omega +\\phi )+\\gamma  (\\omega +\\phi )+\\delta  \\omega}$\n",
    "\n",
    "For the moment, we will also assume that there is no carbonic anhydrase in the system, i.e. that $\\delta$ and $\\phi$ are small. To explore this limit, we will a more explicit equation, substituting $\\delta = \\delta' \\times [CA]$ and $\\phi = \\phi' \\times [CA]$ to reflect the fact that both directions are catalyzed by an enzyme. In the limit where $[CA] \\to 0$ we can give approximate steady state solutions for rubisco and H-carboxylation rates as above (by taking the zeroth order series expansion about [CA] = 0). In this limit we get \n",
    "\n",
    "$\\gamma C_{in} \\approx \\frac{C_{out} \\gamma}{\\alpha + \\gamma}$\n",
    "   \n",
    "$\\omega H_{in} \\approx C_{out} K_{EQ} \\chi$"
   ]
  },
  {
   "cell_type": "code",
   "execution_count": 7,
   "metadata": {},
   "outputs": [],
   "source": [
    "# Calculate the rubisco flux as a function of other params\n",
    "def rub_flux_DAB_0order(a, b, g, x, omega, c_out, k_eq):\n",
    "    numerator = c_out * g\n",
    "    denom = (a + g)\n",
    "    return numerator/denom\n",
    "\n",
    "# Calculate the flux through H-carboxylation as a function of the other params. \n",
    "def hcarb_flux_DAB_0order(a, b, g, x, omega, c_out, k_eq):\n",
    "    return c_out * k_eq * (b+x) * omega / (b+omega)"
   ]
  },
  {
   "cell_type": "code",
   "execution_count": 17,
   "metadata": {},
   "outputs": [],
   "source": [
    "# Mangan & Flamholz 2016 considers a range of 1e-5 to 1e0 cm/s for Ci uptake (Jc)\n",
    "# Jc * 1e4 * SA/V gives our chi value in /s units\n",
    "chi = np.logspace(-8,6,100)\n",
    "\n",
    "# 2d grid of rubisco and Ci uptake rates\n",
    "G, X = np.meshgrid(gamma, chi)\n",
    "\n",
    "# Omega is 1% of rubisco gamma\n",
    "Omega = G / 100\n",
    "\n",
    "rub_fluxes = rub_flux_DAB_0order(alpha, beta, G, X, Omega, Cout, Keq_pH(pH_in))\n",
    "hcarb_fluxes = hcarb_flux_DAB_0order(alpha, beta, G, X, Omega, Cout, Keq_pH(pH_in))"
   ]
  },
  {
   "cell_type": "code",
   "execution_count": 18,
   "metadata": {},
   "outputs": [
    {
     "name": "stderr",
     "output_type": "stream",
     "text": [
      "<ipython-input-18-cf0ce15be508>:28: UserWarning: No contour levels were found within the data range.\n",
      "  plt.contour(boundary, cmap='gray')\n"
     ]
    },
    {
     "data": {
      "image/png": "[encoded data removed]",
      "text/plain": [
       "<Figure size 576x288 with 6 Axes>"
      ]
     },
     "metadata": {
      "needs_background": "light"
     },
     "output_type": "display_data"
    }
   ],
   "source": [
    "fig, axs = plt.subplots(ncols=3, figsize=(8,4))\n",
    "\n",
    "plt.sca(axs[0])\n",
    "lnorm = LogNorm(rub_fluxes.min(), rub_fluxes.max())\n",
    "plt.imshow(rub_fluxes, norm=lnorm, origin='lower')\n",
    "plt.colorbar(fraction=0.046, pad=0.04)\n",
    "\n",
    "plt.ylabel('$\\chi$ (s$^{-1}$)')\n",
    "plt.title('Rubisco Flux')\n",
    "\n",
    "plt.sca(axs[1])\n",
    "lnorm = LogNorm(hcarb_fluxes.min(), rub_fluxes.max())\n",
    "plt.imshow(hcarb_fluxes, norm=lnorm, cmap='OrRd', origin='lower')\n",
    "plt.colorbar(fraction=0.046, pad=0.04)\n",
    "\n",
    "plt.title('H-carb. Flux')\n",
    "\n",
    "plt.sca(axs[2])\n",
    "biomass_c_flux = np.minimum(rub_fluxes, 100*hcarb_fluxes)\n",
    "lnorm = LogNorm(biomass_c_flux.min(), biomass_c_flux.max())\n",
    "plt.imshow(biomass_c_flux, norm=lnorm, cmap='GnBu', origin='lower')\n",
    "plt.colorbar(fraction=0.046, pad=0.04, label='C Flux $\\mu$M/s')\n",
    "\n",
    "# Draw the boundary where rubisco becomes growth-limiting.\n",
    "mask = np.where(rub_fluxes < 100*hcarb_fluxes)\n",
    "boundary = np.zeros(biomass_c_flux.shape)\n",
    "boundary[mask] = 1\n",
    "plt.contour(boundary, cmap='gray')\n",
    "                    \n",
    "plt.title('Biomass Flux')\n",
    "\n",
    "# x & y ticks with values\n",
    "xs = np.arange(0, 101, 20)\n",
    "ys = np.arange(0, 101, 20)\n",
    "for ax in axs.flatten():\n",
    "    plt.sca(ax)\n",
    "    # fix ticks to match actual values\n",
    "    plt.xticks(xs, [r'$10^{%d}$' % i for i in range(-2,4)], fontsize=8)\n",
    "    plt.yticks(ys, [r'$10^{%d}$' % i for i in range(-3,3)], fontsize=8)\n",
    "    plt.xlabel('$\\gamma = 100 \\omega$ (s$^{-1}$)')\n",
    "\n",
    "plt.tight_layout()\n",
    "plt.show()"
   ]
  },
  {
   "cell_type": "code",
   "execution_count": 14,
   "metadata": {},
   "outputs": [
    {
     "data": {
      "image/png": "[encoded data removed]",
      "text/plain": [
       "<Figure size 360x288 with 1 Axes>"
      ]
     },
     "metadata": {
      "needs_background": "light"
     },
     "output_type": "display_data"
    }
   ],
   "source": [
    "# 2D projection of same figures as above\n",
    "plt.figure(figsize=(5,4))\n",
    "pal = sns.color_palette('Paired')\n",
    "\n",
    "# omega is 1% of rubisco gamma\n",
    "little_omega = gamma / 100\n",
    "\n",
    "# phi = delta/KEQ\n",
    "little_phi = delta / Keq_in\n",
    "\n",
    "for idx, delta_val in enumerate([1e-3, 1]):\n",
    "    rub_flux = rub_flux_CA(alpha, beta, gamma, delta_val, little_phi, little_omega, Cout, Keq_pH(pH_in))\n",
    "    hcarb_flux = hcarb_flux_CA(alpha, beta, gamma, delta_val, little_phi, little_omega, Cout, Keq_pH(pH_in))\n",
    "    biomass_c_flux = np.minimum(rub_flux, 100*hcarb_flux)\n",
    "\n",
    "    plt.loglog(gamma, biomass_c_flux, color=pal[idx], label='CA $\\delta$ = {0:.2g}'.format(delta_val))\n",
    "\n",
    "for idx, chi_val in enumerate([1e-10, 1e4]):\n",
    "    rub_flux = rub_flux_DAB_0order(alpha, beta, gamma, chi_val, little_omega, Cout, Keq_pH(pH_in))\n",
    "    hcarb_flux = hcarb_flux_DAB_0order(alpha, beta, gamma, chi_val, little_omega, Cout, Keq_pH(pH_in))\n",
    "    biomass_c_flux = np.minimum(rub_flux, 100*hcarb_flux)\n",
    "\n",
    "    plt.loglog(gamma, biomass_c_flux, color=pal[-1-idx], label='Ci Uptake $\\chi$ = {0:.2g}'.format(chi_val))\n",
    "\n",
    "plt.legend()\n",
    "plt.xlabel('Rubisco Rate (s$^{-1}$)')\n",
    "plt.ylabel('Biomass C Flux ($\\mu$M/s)')\n",
    "plt.show()"
   ]
  },
  {
   "cell_type": "code",
   "execution_count": 12,
   "metadata": {},
   "outputs": [
    {
     "data": {
      "text/plain": [
       "0.015107104941530025"
      ]
     },
     "execution_count": 12,
     "metadata": {},
     "output_type": "execute_result"
    }
   ],
   "source": [
    "beta"
   ]
  },
  {
   "cell_type": "markdown",
   "metadata": {},
   "source": [
    "## Modeling the effect of co-expression of CA and Ci transport\n",
    "Above we considered a simple model including both CA and activated HCO3- uptake in the limit where of ≈ 0 carbonic anhydrase activity. Here we consider that same model when there is nonzero CA activity. \n",
    "\n",
    "$\\gamma C_{in} = \\frac{\\gamma  C_{out} (\\alpha  \\omega +\\text{CA} \\phi' (\\alpha\n",
    "   + K_{EQ} \\chi ))}{\\omega  (\\alpha +\\gamma +\\text{CA} \\delta')+\\text{CA}\n",
    "   \\phi' (\\alpha +\\gamma )}$\n",
    "   \n",
    "$\\omega H_{in} = \\frac{C_{out} \\omega  (\\alpha  \\text{CA} \\delta' + K_{EQ} \\chi \n",
    "   (\\alpha +\\gamma +\\text{CA} \\delta'))}{\\omega  (\\alpha +\\gamma +\\text{CA}\n",
    "  \\delta')+\\text{CA} \\phi' (\\alpha +\\gamma )}$\n",
    "  \n",
    "The variables of interest here are the amount of CA, the CA rate constants ($\\delta' = K_{EQ} \\phi'$) and the whole-cell rate of HCO3- pumping $\\chi$. We will assume"
   ]
  },
  {
   "cell_type": "code",
   "execution_count": null,
   "metadata": {},
   "outputs": [],
   "source": []
  }
 ],
 "metadata": {
  "kernelspec": {
   "display_name": "Python 3",
   "language": "python",
   "name": "python3"
  },
  "language_info": {
   "codemirror_mode": {
    "name": "ipython",
    "version": 3
   },
   "file_extension": ".py",
   "mimetype": "text/x-python",
   "name": "python",
   "nbconvert_exporter": "python",
   "pygments_lexer": "ipython3",
   "version": "3.8.2"
  }
 },
 "nbformat": 4,
 "nbformat_minor": 4
}
