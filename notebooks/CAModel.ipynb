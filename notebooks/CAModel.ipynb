{
 "cells": [
  {
   "cell_type": "markdown",
   "metadata": {},
   "source": [
    "## Model description\n",
    "We are using a linearized differential equation model of $CO_2$ and $HCO_3^{-}$ fluxes across the cell membrane and inside the cytosol. \n",
    "\n",
    "$\\frac{dC_{in}}{dt} = \\alpha (C_{out} - C_{in}) - \\gamma C_{in} - \\delta C_{in} + \\phi H_{in}$\n",
    "\n",
    "$\\frac{dH_{in}}{dt} = \\beta (H_{out} - H_{in}) + \\delta C_{in} - \\phi H_{in} - \\omega H_{in}$\n",
    "\n",
    "Here $C_{in}$ and $H_{in}$ are the intracellular $CO_2$ and $HCO_3^{-}$ concentrations respectively. $C_{out}$ and $H_{out}$ are the extracellular concentrations, which we assume to be in a pH-dependent equilibrium such that\n",
    "\n",
    "$\\frac{H_{out}}{C_{out}} = K_{EQ}(pH)$\n",
    "\n",
    "In this linearized system, $\\gamma C_{in}$ represents the rate of intracellular $CO_2$ fixation by rubisco and $\\delta C_{in} - \\phi H_{in}$ is the balance of the reversible $CO_2$ hydration reaction by carbonic anhydrase. $\\alpha$ and $\\beta$ are permeability coefficients for $CO_2$ and $HCO_3^{-}$, respectively, and $\\omega H_{in}$ is the rate of $HCO_3^{-}$ dependent carboxylation. Note that several $HCO_3^{-}$ dependent carboxylation are required for the production of key precursors of lipids, amino acids and proteins. Hereafter we refer to carboxylation of $HCO_3^{-}$ as \"H-carboxylation.\" \n",
    "\n",
    "## Assumptions\n",
    "As the diffusion coefficients associated with small molecules (e.g. $CO_2$ and $HCO_3^{-}$) in water are ≈1000 $\\mu m^2 /s$, such molecules diffuse very quickly across the micron length scales of bacterial cells with diffusion timescales $< 10^{-3}$. As a result, we assume spatial uniformity of $H_{in}$ and $C_{in}$ concentrations. We are also assuming a constant concentration of the rubisco co-substrate, ribulose 1,5-bisphosphate or RuBP, so that we can ignore this concentration when considering the reaction rate. \n",
    "\n",
    "Enzymatic rates are typically described as non-linear saturating functions of substrate concentrations. An irreversible Michaelis-Menten rate law has the form $V = k_{cat} [E] \\frac{[S]}{K_M + [S]}$ where $[E]$ and $[S]$ are the enzyme and substrate concentrations respectively. In order to linearize this equation, we assume for both rubisco and carbonic anhydrase that $[S] \\ll K_M$ so that $V \\approx \\frac{k_{cat}}{K_M} [E] [S]$. This assumption is reasonably justified as a the equilibrium $CO_2$ concentration is $\\approx 15 \\mu M$ while the typical bacterial rubisco has a $K_M \\approx 100 \\mu M$. Similarly, typical $K_M$ values for carbonic anhydrases are in the $1-5 mM$ range. \n",
    "\n",
    "As $CO_2$ is smaller than $HCO_3^{-}$ and uncharged, it is typical to assume that the membrane permeability $\\beta \\ll \\alpha$. We will not explicitly encode this assumption in the equations. Instead, we will plug in plausible empirically-derived values for $\\beta$ and $\\alpha$. \n",
    "\n",
    "## Steady-state solutions\n",
    "We can solve this system at steady-state, which gives steady-state values for $C_{in}$ and $H_{in}$ as a function of the other parameters. In particular, we can calculate the flux through rubisco as\n",
    "\n",
    "$\\gamma C_{in} = \\frac{\\gamma  C_{out} (\\alpha  (\\beta +\\omega +\\phi )+\\beta  K_{EQ}(pH) \\phi\n",
    "   )}{\\alpha  (\\beta +\\omega +\\phi )+\\beta  (\\gamma +\\delta )+\\gamma  \\omega +\\gamma \n",
    "   \\phi +\\delta  \\omega }$\n",
    "   \n",
    "Similarly, we can calculate the rate of H-dependent carboxylation as \n",
    "\n",
    "$\\omega H_{in} = \\frac{C_{out} \\omega  (\\alpha  \\delta +\\beta  K_{EQ}(pH) (\\alpha +\\gamma\n",
    "   +\\delta ))}{\\alpha  (\\beta +\\omega +\\phi )+\\beta  (\\gamma +\\delta )+\\gamma  \\omega\n",
    "   +\\gamma  \\phi +\\delta  \\omega }$\n",
    "   \n",
    "Since rubisco and H-carboxylation are together responsible for the production of biomass carbon, we'll further assume that the rate of biomass production and, hence, the exponential growth rate $\\lambda \\propto \\min(c \\omega H_{in}, \\gamma C_{in})$. Here $c \\gg 1$ is a constant of proportionality reflecting the lesser contribution of H-carboxylation to biomass production. We will assume for the sake of plotting that $c = 100$, meaning that H-carboxylation contributes 1% of biomass carbon on a flux basis.  A more precise range of values could be calculated via flux balance analysis of autotrophic metabolism. "
   ]
  },
  {
   "cell_type": "code",
   "execution_count": 1,
   "metadata": {},
   "outputs": [],
   "source": [
    "import numpy as np\n",
    "from matplotlib import pyplot as plt\n",
    "from matplotlib.colors import LogNorm"
   ]
  },
  {
   "cell_type": "code",
   "execution_count": 2,
   "metadata": {},
   "outputs": [
    {
     "name": "stdout",
     "output_type": "stream",
     "text": [
      "alpha = 12000 /s\n",
      "beta = 0.0151071 /s\n",
      "\n",
      "pH_out = 7.1\n",
      "KEQ_out(pH) = 10\n",
      "Cout = 15 uM\n",
      "Hout = 150 uM\n",
      "\n",
      "pH_in = 7.1\n",
      "KEQ_in(pH) = 10\n"
     ]
    }
   ],
   "source": [
    "# Lengths in micron units\n",
    "cell_SA = 6 # square microns, BNID 101792\n",
    "cell_V = 1.5 # cubic microns, BNID 114924\n",
    "C_perm = 0.3*1e4 # microns/s, Flamholz & Mangan 2016\n",
    "H_perm = 3e-3*1e4*np.power(10, 3.2-7.1) # microns/s, Flamholz & Mangan 2016\n",
    "\n",
    "alpha = C_perm * cell_SA / cell_V\n",
    "beta = H_perm * cell_SA / cell_V\n",
    "print('alpha = {:1g} /s'.format(alpha))\n",
    "print('beta = {:1g} /s'.format(beta))\n",
    "print()\n",
    "\n",
    "# Concentrations in micromolar units\n",
    "pH_out = 7.1\n",
    "pKa_eff = 6.1 # effective pKa between CO2 and bicarb\n",
    "Cout = 15\n",
    "Keq_pH = lambda p: np.power(10, p-pKa_eff)\n",
    "Keq_out = Keq_pH(pH_out)\n",
    "Hout = Keq_out*Cout\n",
    "\n",
    "print('pH_out = {:1g}'.format(pH_out))\n",
    "print('KEQ_out(pH) = {:1g}'.format(Keq_out))\n",
    "print('Cout = {:1g} uM'.format(Cout))\n",
    "print('Hout = {:1g} uM'.format(Hout))\n",
    "print()\n",
    "\n",
    "# We'll simplify the system by assuming pHout = pHin\n",
    "pH_in = pH_out\n",
    "Keq_in = Keq_pH(pH_in)\n",
    "print('pH_in = {:1g}'.format(pH_in))\n",
    "print('KEQ_in(pH) = {:1g}'.format(Keq_in))\n",
    "# This forces a relationship between the CA kinetics (Haldane relation)\n",
    "# Where KEQ = delta/phi = Hin/Cin at equilibrium\n",
    "\n",
    "# We'll further assume that the H carboxylation is ≈1% of rubisco rate\n",
    "# since rubisco is responsible for biomass carbon and H-carboxylation is\n",
    "# responsible for much less. 10% is probably an overestimate. Regardless\n",
    "# gamma = 10*omega"
   ]
  },
  {
   "cell_type": "code",
   "execution_count": 3,
   "metadata": {},
   "outputs": [],
   "source": [
    "# Calculate the rubisco flux as a function of other params\n",
    "def rub_flux(a, b, g, d, phi, omega, c_out, k_eq):\n",
    "    numerator = g * c_out * (a*(b+omega+phi) + b*k_eq*phi)\n",
    "    denom = (a*(b+omega+phi) + b*(g+d) + \n",
    "             g*omega + g*phi + d*omega)\n",
    "    return numerator/denom\n",
    "\n",
    "# Calculate the flux through H-carboxylation as a function of the other params. \n",
    "def hcarb_flux(a, b, g, d, phi, omega, c_out, k_eq):\n",
    "    numerator = omega * c_out * (a*d + b*k_eq*(a+g+d))\n",
    "    denom = (a*(b+omega+phi) + b*(g+d) + \n",
    "             g*omega + g*phi + d*omega)\n",
    "    return numerator/denom"
   ]
  },
  {
   "cell_type": "code",
   "execution_count": 4,
   "metadata": {},
   "outputs": [],
   "source": [
    "# Gamma is rubisco kcat/KM * enzyme concentration\n",
    "# kcat ≈ 1-10 /s\n",
    "# KM ≈ 100 uM\n",
    "# concentration 1-100 uM\n",
    "# so gamma is from 1e-2 to 1e3 /s\n",
    "gamma = np.logspace(-2,3,100) # /s\n",
    "\n",
    "# Delta is CA kcat/KM * enzyme concentration\n",
    "# kcat / KM ≈ 1e-2 - 1e1 /uM/s depending on CA\n",
    "# concentration 0.1-10 uM\n",
    "# so delta is from 1e-3 to 1e2 /s for a CA.\n",
    "# we will go much lower because we want to consider no CA at all. \n",
    "delta = np.logspace(-3,2,100) # /s\n",
    "\n",
    "# 2d grid of rubisco and CA rates\n",
    "G, D = np.meshgrid(gamma, delta)\n",
    "\n",
    "# Omega is 1% of rubisco gamma\n",
    "Omega = G / 100\n",
    "\n",
    "# As we said above, phi = delta/KEQ\n",
    "Phi = D / Keq_in\n",
    "\n",
    "rub_fluxes = rub_flux(alpha, beta, G, D, Phi, Omega, Cout, Keq_pH(pH_in))\n",
    "hcarb_fluxes = hcarb_flux(alpha, beta, G, D, Phi, Omega, Cout, Keq_pH(pH_in))"
   ]
  },
  {
   "cell_type": "code",
   "execution_count": 6,
   "metadata": {},
   "outputs": [
    {
     "data": {
      "image/png": "[encoded data removed]",
      "text/plain": [
       "<Figure size 576x288 with 6 Axes>"
      ]
     },
     "metadata": {
      "needs_background": "light"
     },
     "output_type": "display_data"
    }
   ],
   "source": [
    "fig, axs = plt.subplots(ncols=3, figsize=(8,4))\n",
    "\n",
    "plt.sca(axs[0])\n",
    "lnorm = LogNorm(rub_fluxes.min(), rub_fluxes.max())\n",
    "plt.imshow(rub_fluxes, norm=lnorm, origin='lower')\n",
    "plt.colorbar(fraction=0.046, pad=0.04)\n",
    "\n",
    "plt.xlabel('$\\gamma = 100 \\omega$ (s$^{-1}$)')\n",
    "plt.ylabel('$\\delta = \\phi K_{eq}$ (s$^{-1}$)')\n",
    "plt.title('Rubisco Flux')\n",
    "\n",
    "plt.sca(axs[1])\n",
    "lnorm = LogNorm(hcarb_fluxes.min(), rub_fluxes.max())\n",
    "plt.imshow(hcarb_fluxes, norm=lnorm, cmap='OrRd', origin='lower')\n",
    "plt.colorbar(fraction=0.046, pad=0.04)\n",
    "\n",
    "plt.xlabel('$\\gamma = 100 \\omega$ (s$^{-1}$)')\n",
    "plt.title('H-carb. Flux')\n",
    "\n",
    "plt.sca(axs[2])\n",
    "biomass_c_flux = np.minimum(rub_fluxes, 100*hcarb_fluxes)\n",
    "lnorm = LogNorm(biomass_c_flux.min(), biomass_c_flux.max())\n",
    "plt.imshow(biomass_c_flux, norm=lnorm, cmap='GnBu', origin='lower')\n",
    "plt.colorbar(fraction=0.046, pad=0.04, label='C Flux $\\mu$M/s')\n",
    "\n",
    "# Draw the boundary where rubisco becomes growth-limiting.\n",
    "mask = np.where(rub_fluxes < 100*hcarb_fluxes)\n",
    "boundary = np.zeros(biomass_c_flux.shape)\n",
    "boundary[mask] = 1\n",
    "plt.contour(boundary, cmap='gray')\n",
    "                    \n",
    "plt.xlabel('$\\gamma = 100 \\omega$ (s$^{-1}$)')\n",
    "plt.title('Biomass Flux')\n",
    "\n",
    "# x & y ticks with values\n",
    "xs = np.arange(0, 101, 20)\n",
    "ys = np.arange(0, 101, 20)\n",
    "for ax in axs.flatten():\n",
    "    plt.sca(ax)\n",
    "    plt.xticks(xs, [r'$10^{%d}$' % i for i in range(-2,4)], fontsize=8)\n",
    "    plt.yticks(ys, [r'$10^{%d}$' % i for i in range(-3,3)], fontsize=8)\n",
    "\n",
    "plt.tight_layout()\n",
    "plt.show()"
   ]
  },
  {
   "cell_type": "code",
   "execution_count": null,
   "metadata": {},
   "outputs": [],
   "source": []
  }
 ],
 "metadata": {
  "kernelspec": {
   "display_name": "Python 3 (ipykernel)",
   "language": "python",
   "name": "python3"
  },
  "language_info": {
   "codemirror_mode": {
    "name": "ipython",
    "version": 3
   },
   "file_extension": ".py",
   "mimetype": "text/x-python",
   "name": "python",
   "nbconvert_exporter": "python",
   "pygments_lexer": "ipython3",
   "version": "3.8.10"
  }
 },
 "nbformat": 4,
 "nbformat_minor": 4
}
